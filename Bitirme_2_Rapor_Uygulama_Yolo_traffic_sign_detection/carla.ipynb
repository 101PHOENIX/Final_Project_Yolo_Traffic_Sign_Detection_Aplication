{
 "cells": [
  {
   "cell_type": "code",
   "execution_count": 1,
   "metadata": {
    "execution": {
     "iopub.execute_input": "2025-01-07T17:02:13.960956Z",
     "iopub.status.busy": "2025-01-07T17:02:13.96062Z",
     "iopub.status.idle": "2025-01-07T17:02:38.116978Z",
     "shell.execute_reply": "2025-01-07T17:02:38.115515Z",
     "shell.execute_reply.started": "2025-01-07T17:02:13.960932Z"
    },
    "id": "eRRwbPzHz72w",
    "trusted": true
   },
   "outputs": [],
   "source": [
    "%%capture\n",
    "%pip install ultralytics\n",
    "%pip install -U albumentations\n",
    "%sudo apt-get install tree"
   ]
  },
  {
   "cell_type": "code",
   "execution_count": null,
   "metadata": {
    "execution": {
     "iopub.execute_input": "2025-01-07T17:23:02.311131Z",
     "iopub.status.busy": "2025-01-07T17:23:02.310735Z",
     "iopub.status.idle": "2025-01-07T17:23:02.315913Z",
     "shell.execute_reply": "2025-01-07T17:23:02.31475Z",
     "shell.execute_reply.started": "2025-01-07T17:23:02.31109Z"
    },
    "id": "I6SvVoiOz72x",
    "trusted": true
   },
   "outputs": [],
   "source": [
    "base_data_path = \"/kaggle/input/carla-object-detection-dataset/carla-object-detection-dataset\"\n",
    "base_output = \"/kaggle/working/\"\n",
    "\n",
    "# base_data_path = suraj520_carla_object_detection_dataset_path + \"/carla-object-detection-dataset\"\n",
    "# base_output = \"/content\""
   ]
  },
  {
   "cell_type": "markdown",
   "metadata": {
    "id": "rVGPcHMHz72y"
   },
   "source": [
    "## PLEASE, if you like the Notebook, Don't forget to Upvote."
   ]
  },
  {
   "cell_type": "markdown",
   "metadata": {
    "id": "lHWwf3Gcz72y"
   },
   "source": [
    "### Getting Started\n",
    "Imports and create our variables"
   ]
  },
  {
   "cell_type": "code",
   "execution_count": 3,
   "metadata": {
    "execution": {
     "iopub.execute_input": "2025-01-07T17:23:03.30614Z",
     "iopub.status.busy": "2025-01-07T17:23:03.305787Z",
     "iopub.status.idle": "2025-01-07T17:23:03.312402Z",
     "shell.execute_reply": "2025-01-07T17:23:03.31116Z",
     "shell.execute_reply.started": "2025-01-07T17:23:03.306114Z"
    },
    "id": "32erdHOFz72y",
    "trusted": true
   },
   "outputs": [],
   "source": [
    "from ultralytics import YOLO\n",
    "import yaml\n",
    "from pathlib import Path\n",
    "import shutil\n",
    "import matplotlib.pyplot as plt\n",
    "import pandas as pd\n",
    "import torch\n",
    "from collections import Counter\n",
    "import xml.etree.ElementTree as ET\n",
    "from torchvision.utils import draw_bounding_boxes\n",
    "from torchvision.io import read_image\n",
    "import cv2 as cv\n",
    "from PIL import Image\n",
    "from torchvision.transforms.functional import to_pil_image, to_tensor\n",
    "from tqdm.notebook import tqdm\n",
    "import random\n",
    "import torch"
   ]
  },
  {
   "cell_type": "markdown",
   "metadata": {
    "id": "ozMpKEsGz72z"
   },
   "source": [
    "Lets select our device"
   ]
  },
  {
   "cell_type": "code",
   "execution_count": 4,
   "metadata": {
    "execution": {
     "iopub.execute_input": "2025-01-07T17:23:04.034045Z",
     "iopub.status.busy": "2025-01-07T17:23:04.033614Z",
     "iopub.status.idle": "2025-01-07T17:23:04.045274Z",
     "shell.execute_reply": "2025-01-07T17:23:04.043601Z",
     "shell.execute_reply.started": "2025-01-07T17:23:04.034012Z"
    },
    "id": "NXPv2M0xz72z",
    "outputId": "11139c57-9cce-4085-a742-a3689728f9e0",
    "trusted": true
   },
   "outputs": [
    {
     "name": "stdout",
     "output_type": "stream",
     "text": [
      "cpu\n"
     ]
    }
   ],
   "source": [
    "device = \"cuda\" if torch.cuda.is_available() else \"cpu\"\n",
    "print(device)"
   ]
  },
  {
   "cell_type": "markdown",
   "metadata": {
    "id": "WoBXK4f-z72z"
   },
   "source": [
    "### Exploring Our Data"
   ]
  },
  {
   "cell_type": "code",
   "execution_count": 7,
   "metadata": {
    "execution": {
     "iopub.execute_input": "2025-01-07T17:23:05.870583Z",
     "iopub.status.busy": "2025-01-07T17:23:05.870233Z",
     "iopub.status.idle": "2025-01-07T17:23:05.898967Z",
     "shell.execute_reply": "2025-01-07T17:23:05.898004Z",
     "shell.execute_reply.started": "2025-01-07T17:23:05.870557Z"
    },
    "id": "ssEirn0yz720",
    "outputId": "769df5dd-4d8f-436a-9fc9-3429636fe03b",
    "trusted": true
   },
   "outputs": [
    {
     "data": {
      "text/plain": [
       "[WindowsPath('C:/Users/Casper/Desktop/Bitirme_2_Rapor_Uygulama_Yolo_traffic_sign_detection/datasets/CARLA_Object_Detection_Dataset/carla-object-detection-dataset/images/train/Town04_004800.png'),\n",
       " WindowsPath('C:/Users/Casper/Desktop/Bitirme_2_Rapor_Uygulama_Yolo_traffic_sign_detection/datasets/CARLA_Object_Detection_Dataset/carla-object-detection-dataset/images/train/Town04_004860.png'),\n",
       " WindowsPath('C:/Users/Casper/Desktop/Bitirme_2_Rapor_Uygulama_Yolo_traffic_sign_detection/datasets/CARLA_Object_Detection_Dataset/carla-object-detection-dataset/images/train/Town04_004920.png'),\n",
       " WindowsPath('C:/Users/Casper/Desktop/Bitirme_2_Rapor_Uygulama_Yolo_traffic_sign_detection/datasets/CARLA_Object_Detection_Dataset/carla-object-detection-dataset/images/train/Town04_004980.png'),\n",
       " WindowsPath('C:/Users/Casper/Desktop/Bitirme_2_Rapor_Uygulama_Yolo_traffic_sign_detection/datasets/CARLA_Object_Detection_Dataset/carla-object-detection-dataset/images/train/Town04_005040.png')]"
      ]
     },
     "execution_count": 7,
     "metadata": {},
     "output_type": "execute_result"
    }
   ],
   "source": [
    "image_data = Path(base_data_path, \"images/train\")\n",
    "\n",
    "image_data_files = list(image_data.iterdir())\n",
    "\n",
    "image_data_files[-5:]"
   ]
  },
  {
   "cell_type": "code",
   "execution_count": 8,
   "metadata": {
    "execution": {
     "iopub.execute_input": "2025-01-07T17:23:06.155304Z",
     "iopub.status.busy": "2025-01-07T17:23:06.154951Z",
     "iopub.status.idle": "2025-01-07T17:23:06.163009Z",
     "shell.execute_reply": "2025-01-07T17:23:06.161943Z",
     "shell.execute_reply.started": "2025-01-07T17:23:06.155279Z"
    },
    "id": "2mDlOp7Jz720",
    "outputId": "84fdc447-0286-4697-ce14-9e3119e1bd6d",
    "trusted": true
   },
   "outputs": [
    {
     "data": {
      "text/plain": [
       "Counter({'.png': 779})"
      ]
     },
     "execution_count": 8,
     "metadata": {},
     "output_type": "execute_result"
    }
   ],
   "source": [
    "file_extensions_count = Counter(file.suffix for file in image_data_files)\n",
    "file_extensions_count"
   ]
  },
  {
   "cell_type": "markdown",
   "metadata": {
    "id": "pDf1FPBuz720"
   },
   "source": [
    "### Data Transformation"
   ]
  },
  {
   "cell_type": "code",
   "execution_count": null,
   "metadata": {
    "execution": {
     "iopub.execute_input": "2025-01-07T17:23:08.06442Z",
     "iopub.status.busy": "2025-01-07T17:23:08.064042Z",
     "iopub.status.idle": "2025-01-07T17:23:10.431362Z",
     "shell.execute_reply": "2025-01-07T17:23:10.429816Z",
     "shell.execute_reply.started": "2025-01-07T17:23:08.064394Z"
    },
    "id": "ggix3N2Dz720",
    "outputId": "605a085d-3035-4207-86dd-badec664a1b7",
    "trusted": true
   },
   "outputs": [],
   "source": [
    "%tree /kaggle/input/carla-object-detection-dataset/carla-object-detection-dataset --filelimit=10"
   ]
  },
  {
   "cell_type": "markdown",
   "metadata": {
    "id": "mcRIrWsGz720"
   },
   "source": [
    "### XML Annotations"
   ]
  },
  {
   "cell_type": "code",
   "execution_count": null,
   "metadata": {
    "execution": {
     "iopub.execute_input": "2025-01-07T17:23:10.434171Z",
     "iopub.status.busy": "2025-01-07T17:23:10.43372Z",
     "iopub.status.idle": "2025-01-07T17:23:10.439356Z",
     "shell.execute_reply": "2025-01-07T17:23:10.43821Z",
     "shell.execute_reply.started": "2025-01-07T17:23:10.434131Z"
    },
    "id": "QEJ2ruh_z721",
    "trusted": true
   },
   "outputs": [],
   "source": [
    "train_imgs = Path(base_data_path, \"images/train\")\n",
    "train_annotations = Path(base_data_path, \"labels/train\")"
   ]
  },
  {
   "cell_type": "markdown",
   "metadata": {
    "id": "F5hq--ZOz721"
   },
   "source": [
    "Select `xml` file with segments to find the bbox data.\n",
    "\n",
    "Note limiting with only `25`, so maybe there are more many detections."
   ]
  },
  {
   "cell_type": "code",
   "execution_count": null,
   "metadata": {
    "execution": {
     "iopub.execute_input": "2025-01-07T17:23:11.182146Z",
     "iopub.status.busy": "2025-01-07T17:23:11.181757Z",
     "iopub.status.idle": "2025-01-07T17:23:11.321162Z",
     "shell.execute_reply": "2025-01-07T17:23:11.319886Z",
     "shell.execute_reply.started": "2025-01-07T17:23:11.182117Z"
    },
    "id": "xoaddP6oz721",
    "outputId": "58d89524-a13d-4e7a-a0a3-be690e595685",
    "trusted": true
   },
   "outputs": [],
   "source": [
    "xml_file = Path(train_annotations, \"Town01_002040.xml\")\n",
    "!head -n 25 $xml_file"
   ]
  },
  {
   "cell_type": "markdown",
   "metadata": {
    "id": "NyJylRpDz721"
   },
   "source": [
    "for looping on object, so get all detections."
   ]
  },
  {
   "cell_type": "code",
   "execution_count": null,
   "metadata": {
    "execution": {
     "iopub.execute_input": "2025-01-07T17:23:12.706747Z",
     "iopub.status.busy": "2025-01-07T17:23:12.706349Z",
     "iopub.status.idle": "2025-01-07T17:23:12.714813Z",
     "shell.execute_reply": "2025-01-07T17:23:12.713678Z",
     "shell.execute_reply.started": "2025-01-07T17:23:12.706718Z"
    },
    "id": "VNNSWIjXz721",
    "outputId": "1fd9e147-a16e-4593-a5a5-6ef53c6ce4cb",
    "trusted": true
   },
   "outputs": [],
   "source": [
    "tree = ET.parse(xml_file)\n",
    "root = tree.getroot()\n",
    "root.tag"
   ]
  },
  {
   "cell_type": "code",
   "execution_count": null,
   "metadata": {
    "execution": {
     "iopub.execute_input": "2025-01-07T17:23:14.28599Z",
     "iopub.status.busy": "2025-01-07T17:23:14.285595Z",
     "iopub.status.idle": "2025-01-07T17:23:14.295002Z",
     "shell.execute_reply": "2025-01-07T17:23:14.293683Z",
     "shell.execute_reply.started": "2025-01-07T17:23:14.285963Z"
    },
    "id": "rIl6NDW0z721",
    "outputId": "93af14bf-13ce-4b7b-db34-a4a3cb6dbb9f",
    "trusted": true
   },
   "outputs": [],
   "source": [
    "obj_bboxes = []\n",
    "obj_labels = []\n",
    "for obj in root.findall(\"object\"):\n",
    "    # Extract Label\n",
    "    label = obj.find(\"name\").text\n",
    "    obj_labels.append(label)\n",
    "    # Extract bounding boxes\n",
    "    bndbox = obj.find(\"bndbox\")\n",
    "    xmin, xmax = int(bndbox.find(\"xmin\").text), int(bndbox.find(\"xmax\").text)\n",
    "    ymin, ymax = int(bndbox.find(\"ymin\").text), int(bndbox.find(\"ymax\").text)\n",
    "    obj_bboxes.append([xmin, ymin, xmax, ymax])\n",
    "\n",
    "obj_bboxes, obj_labels"
   ]
  },
  {
   "cell_type": "code",
   "execution_count": null,
   "metadata": {
    "execution": {
     "iopub.execute_input": "2025-01-07T17:23:14.956647Z",
     "iopub.status.busy": "2025-01-07T17:23:14.956246Z",
     "iopub.status.idle": "2025-01-07T17:23:15.057276Z",
     "shell.execute_reply": "2025-01-07T17:23:15.056255Z",
     "shell.execute_reply.started": "2025-01-07T17:23:14.956617Z"
    },
    "id": "7t_rIhPRz721",
    "outputId": "8c6a1be4-d99a-43c0-af64-9e0a5c4629cb",
    "trusted": true
   },
   "outputs": [],
   "source": [
    "# Convering Bounidng Boxes list to tensor\n",
    "obj_bboxes_tensor = torch.tensor(obj_bboxes, dtype=float)\n",
    "obj_bboxes_tensor[0]"
   ]
  },
  {
   "cell_type": "code",
   "execution_count": null,
   "metadata": {
    "execution": {
     "iopub.execute_input": "2025-01-07T17:23:16.14355Z",
     "iopub.status.busy": "2025-01-07T17:23:16.143163Z",
     "iopub.status.idle": "2025-01-07T17:23:16.154257Z",
     "shell.execute_reply": "2025-01-07T17:23:16.153037Z",
     "shell.execute_reply.started": "2025-01-07T17:23:16.14352Z"
    },
    "id": "wKfbteIIz721",
    "outputId": "6c9a2014-f753-4e17-c5de-207ea85935c8",
    "trusted": true
   },
   "outputs": [],
   "source": [
    "classes = []\n",
    "with open(Path(base_data_path, \"labels.txt\"), \"r\") as f:\n",
    "    classes = f.read().split('\\n')\n",
    "\n",
    "print(\"Classes \", classes)\n",
    "print(\"Classes Length\", len(classes))"
   ]
  },
  {
   "cell_type": "code",
   "execution_count": null,
   "metadata": {
    "execution": {
     "iopub.execute_input": "2025-01-07T17:23:17.745403Z",
     "iopub.status.busy": "2025-01-07T17:23:17.74505Z",
     "iopub.status.idle": "2025-01-07T17:23:18.141026Z",
     "shell.execute_reply": "2025-01-07T17:23:18.139676Z",
     "shell.execute_reply.started": "2025-01-07T17:23:17.745378Z"
    },
    "id": "HLcKZr7Qz722",
    "outputId": "516885ec-ec5f-4328-83dd-0249c092fca1",
    "trusted": true
   },
   "outputs": [],
   "source": [
    "image_path = Path(train_imgs, \"Town01_002040.png\")\n",
    "image = Image.open(image_path).convert(\"RGB\") # Make sure your image is RGB or Grayscale\n",
    "print(\"Image Type \", type(image))\n",
    "\n",
    "image_bbox = draw_bounding_boxes(\n",
    "    image=to_tensor(image), # Only Accept tensors\n",
    "    boxes=obj_bboxes_tensor, # Object BBoxes\n",
    "    labels=obj_labels, # Object label\n",
    "    width=4,\n",
    "    fill=False\n",
    "    # font=\"arial.ttf\", # Required to set font_size parameter\n",
    "    # font_size=15\n",
    ")\n",
    "\n",
    "plt.imshow((to_pil_image(image_bbox)))\n",
    "plt.axis(\"off\")\n",
    "plt.show()"
   ]
  },
  {
   "cell_type": "markdown",
   "metadata": {
    "id": "gCWFWNGrz722"
   },
   "source": [
    "### Import Detection with YOLO model"
   ]
  },
  {
   "cell_type": "code",
   "execution_count": null,
   "metadata": {
    "execution": {
     "iopub.execute_input": "2025-01-07T17:23:19.879972Z",
     "iopub.status.busy": "2025-01-07T17:23:19.879598Z",
     "iopub.status.idle": "2025-01-07T17:23:19.885706Z",
     "shell.execute_reply": "2025-01-07T17:23:19.884303Z",
     "shell.execute_reply.started": "2025-01-07T17:23:19.879945Z"
    },
    "id": "IX5OOpIDz722",
    "trusted": true
   },
   "outputs": [],
   "source": [
    "def xml_to_yolo(bbox, width, height):\n",
    "    xmin, ymin, xmax, ymax = bbox\n",
    "    x_center = ((xmax + xmin) / 2) / width\n",
    "    y_center = ((ymax + ymin) / 2) / height\n",
    "\n",
    "    bbox_width = (xmax - xmin) / width\n",
    "    bbox_height = (ymax - ymin) / height\n",
    "\n",
    "    return [x_center, y_center, bbox_width, bbox_height]"
   ]
  },
  {
   "cell_type": "markdown",
   "metadata": {
    "id": "RVwH0Os3z722"
   },
   "source": [
    "YOLO training model Expecting labels files to a `.txt` file,\n",
    "\n",
    "and in order `[class_id, x_center, y_center, bbox_width, bbox_height]`\n",
    "\n",
    "each `.txt` file has all annotation in the image."
   ]
  },
  {
   "cell_type": "code",
   "execution_count": null,
   "metadata": {
    "execution": {
     "iopub.execute_input": "2025-01-07T17:23:22.003703Z",
     "iopub.status.busy": "2025-01-07T17:23:22.003315Z",
     "iopub.status.idle": "2025-01-07T17:23:22.015352Z",
     "shell.execute_reply": "2025-01-07T17:23:22.014154Z",
     "shell.execute_reply.started": "2025-01-07T17:23:22.003672Z"
    },
    "id": "GVCoJDLrz722",
    "outputId": "a4e6bb53-ee8a-4281-fe2d-ebc3c9e08b55",
    "trusted": true
   },
   "outputs": [],
   "source": [
    "class_mapping = {cls: idx for idx, cls in enumerate(classes)}\n",
    "\n",
    "def parse_annotation(f):\n",
    "    tree = ET.parse(xml_file)\n",
    "    root = tree.getroot() # Get the main folder root of XML file\n",
    "    # print(\"XML File root '{}'\".format(root.tag))\n",
    "    width = int(root.find(\"size\").find(\"width\").text)\n",
    "    height = int(root.find(\"size\").find(\"height\").text)\n",
    "\n",
    "    objects = []\n",
    "    for obj in root.findall(\"object\"):\n",
    "        # Extract Label\n",
    "        label = obj.find(\"name\").text\n",
    "        class_id = class_mapping[label]\n",
    "        # Extract bounding boxes\n",
    "        bndbox = obj.find(\"bndbox\")\n",
    "        xmin, xmax = int(bndbox.find(\"xmin\").text), int(bndbox.find(\"xmax\").text)\n",
    "        ymin, ymax = int(bndbox.find(\"ymin\").text), int(bndbox.find(\"ymax\").text)\n",
    "        yolo_bbox = xml_to_yolo([xmin, ymin, xmax, ymax], width, height) # Order used for YOLO.\n",
    "\n",
    "        objects.append([class_id] + yolo_bbox)\n",
    "\n",
    "    return objects\n",
    "\n",
    "parse_annotation(Path(train_imgs, \"Town01_002040.png\")) # Represents Image txt file"
   ]
  },
  {
   "cell_type": "code",
   "execution_count": null,
   "metadata": {
    "execution": {
     "iopub.execute_input": "2025-01-07T17:23:23.69065Z",
     "iopub.status.busy": "2025-01-07T17:23:23.690288Z",
     "iopub.status.idle": "2025-01-07T17:23:23.699669Z",
     "shell.execute_reply": "2025-01-07T17:23:23.698649Z",
     "shell.execute_reply.started": "2025-01-07T17:23:23.690624Z"
    },
    "id": "qL4WS5tuz722",
    "outputId": "b9b4d69e-a39f-4c07-eb9b-b313e9f8b349",
    "trusted": true
   },
   "outputs": [],
   "source": [
    "def write_label(objects, filename):\n",
    "    with open(filename, 'w') as f:\n",
    "        for obj in objects:\n",
    "            f.write(\" \".join(str(x) for x in obj)) # Represents one line\n",
    "            f.write(\"\\n\") # Start new line\n",
    "\n",
    "objects = parse_annotation(Path(train_imgs, \"Town01_002040.png\"))\n",
    "write_label(objects, \"Town01_002040.txt\")\n",
    "open(Path(base_output, \"Town01_002040.txt\"), 'r').read()"
   ]
  },
  {
   "cell_type": "markdown",
   "metadata": {
    "id": "ZtfrxYBEz722"
   },
   "source": [
    "NOTE that Yolo deals with `.PNG` and `.JPEG`, But as format, **PNG** is inefficient for photographs compared to JPEG\n",
    "\n",
    "So we convert all our images to RGB JPEG files before adding them to YOLO"
   ]
  },
  {
   "cell_type": "code",
   "execution_count": null,
   "metadata": {
    "execution": {
     "iopub.execute_input": "2025-01-07T17:23:25.572653Z",
     "iopub.status.busy": "2025-01-07T17:23:25.57224Z",
     "iopub.status.idle": "2025-01-07T17:23:25.640907Z",
     "shell.execute_reply": "2025-01-07T17:23:25.639608Z",
     "shell.execute_reply.started": "2025-01-07T17:23:25.572621Z"
    },
    "id": "oPay_QwJz723",
    "outputId": "2f3c6c25-a247-4b8a-c862-8d1eb7f7025b",
    "trusted": true
   },
   "outputs": [],
   "source": [
    "def convert_image(image, out_image):\n",
    "    Image.open(image).convert(\"RGB\").save(out_image, \"JPEG\")\n",
    "\n",
    "convert_image(Path(train_imgs, \"Town01_002040.png\"), \"Town01_002040.jpg\")\n",
    "Image.open(Path(base_output,\"Town01_002040.jpg\")) # It is the same but in jpg"
   ]
  },
  {
   "cell_type": "markdown",
   "metadata": {
    "id": "o6o5Ezl6z723"
   },
   "source": [
    "also YOLO expects dir to be like\n",
    "```\n",
    "base\n",
    "    -images\n",
    "        -train\n",
    "        -val\n",
    "    -labels\n",
    "        -train\n",
    "        -val\n",
    "```"
   ]
  },
  {
   "cell_type": "code",
   "execution_count": null,
   "metadata": {
    "execution": {
     "iopub.execute_input": "2025-01-07T17:23:27.54483Z",
     "iopub.status.busy": "2025-01-07T17:23:27.544455Z",
     "iopub.status.idle": "2025-01-07T17:23:27.553405Z",
     "shell.execute_reply": "2025-01-07T17:23:27.551859Z",
     "shell.execute_reply.started": "2025-01-07T17:23:27.544803Z"
    },
    "id": "QEOP8ouMz723",
    "trusted": true
   },
   "outputs": [],
   "source": [
    "yolo_base = Path(base_output, \"yolo_data\")\n",
    "Path(yolo_base, \"images\", \"train\").mkdir(parents=True, exist_ok=True)\n",
    "Path(yolo_base, \"images\", \"val\").mkdir(parents=True, exist_ok=True)\n",
    "Path(yolo_base, \"labels\", \"train\").mkdir(parents=True, exist_ok=True)\n",
    "Path(yolo_base, \"labels\", \"val\").mkdir(parents=True, exist_ok=True)"
   ]
  },
  {
   "cell_type": "markdown",
   "metadata": {
    "id": "a6I-2dApz723"
   },
   "source": [
    "Now lets iterate and apply our transformations on our Data"
   ]
  },
  {
   "cell_type": "code",
   "execution_count": null,
   "metadata": {
    "execution": {
     "iopub.execute_input": "2025-01-07T17:23:30.164736Z",
     "iopub.status.busy": "2025-01-07T17:23:30.164362Z",
     "iopub.status.idle": "2025-01-07T17:23:50.432553Z",
     "shell.execute_reply": "2025-01-07T17:23:50.431133Z",
     "shell.execute_reply.started": "2025-01-07T17:23:30.164708Z"
    },
    "id": "RaiBrt58z723",
    "outputId": "e799e3e8-2fca-4068-b5c7-19235179c038",
    "trusted": true
   },
   "outputs": [],
   "source": [
    "train_frac = 0.8\n",
    "images = list(train_imgs.glob(\"*\"))\n",
    "\n",
    "for img in tqdm(images):\n",
    "    # Randomly Select train and test split\n",
    "    split = \"train\" if random.random() < train_frac else \"val\"\n",
    "\n",
    "    annotation = train_annotations / f\"{img.stem}.xml\"\n",
    "    try:\n",
    "        parsed = parse_annotation(annotation)\n",
    "    except Exception as e:\n",
    "        print(f\"Failed to parse {img.stem} .Skipping.\")\n",
    "        continue\n",
    "\n",
    "    dest = yolo_base / \"labels\" / split / f\"{img.stem}.txt\"\n",
    "    write_label(parsed, dest)\n",
    "\n",
    "    dest = yolo_base / \"images\" / split / f\"{img.stem}.jpg\"\n",
    "    convert_image(img, dest)"
   ]
  },
  {
   "cell_type": "code",
   "execution_count": null,
   "metadata": {
    "execution": {
     "iopub.execute_input": "2025-01-07T17:23:50.434165Z",
     "iopub.status.busy": "2025-01-07T17:23:50.433875Z",
     "iopub.status.idle": "2025-01-07T17:23:50.441349Z",
     "shell.execute_reply": "2025-01-07T17:23:50.440054Z",
     "shell.execute_reply.started": "2025-01-07T17:23:50.434138Z"
    },
    "id": "J-iOsUOCz723",
    "outputId": "865a8f0f-90fd-45f5-9680-09ebf9107052",
    "trusted": true
   },
   "outputs": [],
   "source": [
    "classes"
   ]
  },
  {
   "cell_type": "code",
   "execution_count": null,
   "metadata": {
    "execution": {
     "iopub.execute_input": "2025-01-07T17:26:45.76592Z",
     "iopub.status.busy": "2025-01-07T17:26:45.765531Z",
     "iopub.status.idle": "2025-01-07T17:26:45.772985Z",
     "shell.execute_reply": "2025-01-07T17:26:45.77153Z",
     "shell.execute_reply.started": "2025-01-07T17:26:45.765892Z"
    },
    "id": "p817yBBUz723",
    "outputId": "2fdc925e-90d7-4239-9699-a0766d32d500",
    "trusted": true
   },
   "outputs": [],
   "source": [
    "str(Path(base_output, \"yolo_data\"))"
   ]
  },
  {
   "cell_type": "code",
   "execution_count": null,
   "metadata": {
    "execution": {
     "iopub.execute_input": "2025-01-07T17:27:18.978447Z",
     "iopub.status.busy": "2025-01-07T17:27:18.97808Z",
     "iopub.status.idle": "2025-01-07T17:27:18.98823Z",
     "shell.execute_reply": "2025-01-07T17:27:18.987087Z",
     "shell.execute_reply.started": "2025-01-07T17:27:18.978421Z"
    },
    "id": "8LQXsovoz723",
    "trusted": true
   },
   "outputs": [],
   "source": [
    "yolo_metadata = {\n",
    "    \"path\": str(Path(base_output, \"yolo_data\")),\n",
    "    \"train\": str(Path(base_output, \"yolo_data/images/train\")),\n",
    "    \"val\": str(Path(base_output, \"yolo_data/images/val\")),\n",
    "    \"names\": classes,\n",
    "    \"nc\": len(classes)\n",
    "}\n",
    "\n",
    "yolo_config = Path(base_output, \"data.yaml\")\n",
    "yaml.safe_dump(yolo_metadata, open(yolo_config, 'w'))"
   ]
  },
  {
   "cell_type": "code",
   "execution_count": null,
   "metadata": {
    "execution": {
     "iopub.execute_input": "2025-01-07T17:27:29.692274Z",
     "iopub.status.busy": "2025-01-07T17:27:29.691872Z",
     "iopub.status.idle": "2025-01-07T17:27:30.256925Z",
     "shell.execute_reply": "2025-01-07T17:27:30.255794Z",
     "shell.execute_reply.started": "2025-01-07T17:27:29.692246Z"
    },
    "id": "ziahUErlz724",
    "trusted": true
   },
   "outputs": [],
   "source": [
    "model = YOLO(\"yolov8n.pt\", task=\"detect\")\n",
    "model.to(device);"
   ]
  },
  {
   "cell_type": "code",
   "execution_count": null,
   "metadata": {
    "execution": {
     "iopub.execute_input": "2025-01-07T17:27:31.971783Z",
     "iopub.status.busy": "2025-01-07T17:27:31.971265Z",
     "iopub.status.idle": "2025-01-07T17:27:31.976356Z",
     "shell.execute_reply": "2025-01-07T17:27:31.97473Z",
     "shell.execute_reply.started": "2025-01-07T17:27:31.971739Z"
    },
    "id": "si60Q2HVz727",
    "outputId": "2d598575-3b5a-44ba-f460-1a8ff1e4c9e2",
    "trusted": true
   },
   "outputs": [],
   "source": [
    "assert False, \"Make sure you wanna start training\""
   ]
  },
  {
   "cell_type": "code",
   "execution_count": null,
   "metadata": {
    "execution": {
     "execution_failed": "2025-01-07T16:15:59.172Z",
     "iopub.execute_input": "2025-01-07T16:00:06.112417Z",
     "iopub.status.busy": "2025-01-07T16:00:06.112117Z"
    },
    "id": "SPDl9vZqz727",
    "outputId": "156b6d1e-aa82-4ae6-d46e-c40f91834fc0",
    "trusted": true
   },
   "outputs": [],
   "source": [
    "results = model.train(\n",
    "    data=Path(base_output, \"data.yaml\"),\n",
    "    epochs=40,\n",
    "    imgsz=640,\n",
    "    save=True,\n",
    "    save_txt=True,\n",
    "\n",
    ")"
   ]
  },
  {
   "cell_type": "code",
   "execution_count": null,
   "metadata": {
    "id": "NYPuJrDVz727",
    "outputId": "189e6a18-0941-4c7e-b9c8-b2ed42c886f6",
    "trusted": true
   },
   "outputs": [],
   "source": [
    "results = model.predict(\n",
    "    Path(base_output, yolo_base, \"images/train/Town01_002100.jpg\"),\n",
    "    save=True,\n",
    "    save_txt=True\n",
    ")"
   ]
  },
  {
   "cell_type": "code",
   "execution_count": null,
   "metadata": {
    "id": "pxXiRpO8-Pwb",
    "outputId": "7d5a7a8f-e54e-4d0f-df45-7a78d2f66ebb"
   },
   "outputs": [],
   "source": [
    "image = draw_bounding_boxes(\n",
    "    image=to_tensor(results[0].orig_img),\n",
    "    boxes=results[0].boxes.xyxy, # Object BBoxes\n",
    "    labels=[results[0].names[int(cls)] for cls in results[0].boxes.cls], # Object label\n",
    "    width=6,\n",
    ")\n",
    "\n",
    "to_pil_image(image)"
   ]
  },
  {
   "cell_type": "code",
   "execution_count": null,
   "metadata": {
    "id": "_ZVlLYjyz727",
    "outputId": "667a2eae-ccb9-45bd-ef07-853868cf3246",
    "trusted": true
   },
   "outputs": [],
   "source": [
    "object_counts = Counter([model.names[int(cls)] for cls in results[0].boxes.cls])\n",
    "object_counts"
   ]
  },
  {
   "cell_type": "code",
   "execution_count": null,
   "metadata": {
    "execution": {
     "execution_failed": "2025-01-07T16:15:59.173Z"
    },
    "id": "pm0q7Udgz728",
    "outputId": "4eb4b54c-8073-4de0-d403-def63f9b78aa",
    "trusted": true
   },
   "outputs": [],
   "source": [
    "most_common_class, count_of_class = object_counts.most_common(n=1)[0]\n",
    "most_common_class, count_of_class"
   ]
  },
  {
   "cell_type": "code",
   "execution_count": null,
   "metadata": {
    "id": "n9IYD5niO9mS",
    "outputId": "3120e2fe-7c16-435e-987e-eb0f9f1aa255"
   },
   "outputs": [],
   "source": [
    "Image.open(\"/content/runs/detect/train24/PR_curve.png\").resize((700, 400))"
   ]
  },
  {
   "cell_type": "code",
   "execution_count": null,
   "metadata": {
    "id": "xkvsrjL5PIb_",
    "outputId": "385b75c3-f2e6-454b-c3c1-3a64b54c0335"
   },
   "outputs": [],
   "source": [
    "Image.open(\"/content/runs/detect/train24/P_curve.png\").resize((700, 400))"
   ]
  },
  {
   "cell_type": "code",
   "execution_count": null,
   "metadata": {
    "id": "DKUxHNpePYRQ",
    "outputId": "49a49b58-de43-478f-e596-57e1e78039fc"
   },
   "outputs": [],
   "source": [
    "Image.open(\"/content/runs/detect/train24/R_curve.png\").resize((700, 400))"
   ]
  }
 ],
 "metadata": {
  "accelerator": "GPU",
  "colab": {
   "gpuType": "T4",
   "name": "Carla-YOLO-Object Detection",
   "provenance": []
  },
  "kaggle": {
   "accelerator": "none",
   "dataSources": [
    {
     "datasetId": 4092187,
     "sourceId": 7099330,
     "sourceType": "datasetVersion"
    }
   ],
   "dockerImageVersionId": 30822,
   "isGpuEnabled": false,
   "isInternetEnabled": true,
   "language": "python",
   "sourceType": "notebook"
  },
  "kernelspec": {
   "display_name": "Python 3",
   "name": "python3"
  },
  "language_info": {
   "codemirror_mode": {
    "name": "ipython",
    "version": 3
   },
   "file_extension": ".py",
   "mimetype": "text/x-python",
   "name": "python",
   "nbconvert_exporter": "python",
   "pygments_lexer": "ipython3",
   "version": "3.11.4"
  },
  "widgets": {
   "application/vnd.jupyter.widget-state+json": {
    "0d3a72bc9ad7407ba3d40f0194ae52ed": {
     "model_module": "@jupyter-widgets/base",
     "model_module_version": "1.2.0",
     "model_name": "LayoutModel",
     "state": {
      "_model_module": "@jupyter-widgets/base",
      "_model_module_version": "1.2.0",
      "_model_name": "LayoutModel",
      "_view_count": null,
      "_view_module": "@jupyter-widgets/base",
      "_view_module_version": "1.2.0",
      "_view_name": "LayoutView",
      "align_content": null,
      "align_items": null,
      "align_self": null,
      "border": null,
      "bottom": null,
      "display": null,
      "flex": null,
      "flex_flow": null,
      "grid_area": null,
      "grid_auto_columns": null,
      "grid_auto_flow": null,
      "grid_auto_rows": null,
      "grid_column": null,
      "grid_gap": null,
      "grid_row": null,
      "grid_template_areas": null,
      "grid_template_columns": null,
      "grid_template_rows": null,
      "height": null,
      "justify_content": null,
      "justify_items": null,
      "left": null,
      "margin": null,
      "max_height": null,
      "max_width": null,
      "min_height": null,
      "min_width": null,
      "object_fit": null,
      "object_position": null,
      "order": null,
      "overflow": null,
      "overflow_x": null,
      "overflow_y": null,
      "padding": null,
      "right": null,
      "top": null,
      "visibility": null,
      "width": null
     }
    },
    "2463eadaf0354231bb4c505a4bbfc939": {
     "model_module": "@jupyter-widgets/controls",
     "model_module_version": "1.5.0",
     "model_name": "FloatProgressModel",
     "state": {
      "_dom_classes": [],
      "_model_module": "@jupyter-widgets/controls",
      "_model_module_version": "1.5.0",
      "_model_name": "FloatProgressModel",
      "_view_count": null,
      "_view_module": "@jupyter-widgets/controls",
      "_view_module_version": "1.5.0",
      "_view_name": "ProgressView",
      "bar_style": "success",
      "description": "",
      "description_tooltip": null,
      "layout": "IPY_MODEL_0d3a72bc9ad7407ba3d40f0194ae52ed",
      "max": 779,
      "min": 0,
      "orientation": "horizontal",
      "style": "IPY_MODEL_c112b28e46a445778a13ae02ea3d94d8",
      "value": 779
     }
    },
    "30becd54148346ea9aea2e82982ab7b6": {
     "model_module": "@jupyter-widgets/controls",
     "model_module_version": "1.5.0",
     "model_name": "HTMLModel",
     "state": {
      "_dom_classes": [],
      "_model_module": "@jupyter-widgets/controls",
      "_model_module_version": "1.5.0",
      "_model_name": "HTMLModel",
      "_view_count": null,
      "_view_module": "@jupyter-widgets/controls",
      "_view_module_version": "1.5.0",
      "_view_name": "HTMLView",
      "description": "",
      "description_tooltip": null,
      "layout": "IPY_MODEL_cd5f4673f7594ab29e87e9d54fc3b71b",
      "placeholder": "​",
      "style": "IPY_MODEL_fbd9effefeca4a9084819c22a892e4ce",
      "value": "100%"
     }
    },
    "5ece0b2ff90f4da2927db13650c502ef": {
     "model_module": "@jupyter-widgets/controls",
     "model_module_version": "1.5.0",
     "model_name": "HTMLModel",
     "state": {
      "_dom_classes": [],
      "_model_module": "@jupyter-widgets/controls",
      "_model_module_version": "1.5.0",
      "_model_name": "HTMLModel",
      "_view_count": null,
      "_view_module": "@jupyter-widgets/controls",
      "_view_module_version": "1.5.0",
      "_view_name": "HTMLView",
      "description": "",
      "description_tooltip": null,
      "layout": "IPY_MODEL_b9e96ba4df17498a942a7b323d1a8084",
      "placeholder": "​",
      "style": "IPY_MODEL_9f66185f93094562a15f65d8261b6959",
      "value": " 779/779 [00:16&lt;00:00, 74.26it/s]"
     }
    },
    "90719e803b9148b7b3a21c17039cf366": {
     "model_module": "@jupyter-widgets/controls",
     "model_module_version": "1.5.0",
     "model_name": "HBoxModel",
     "state": {
      "_dom_classes": [],
      "_model_module": "@jupyter-widgets/controls",
      "_model_module_version": "1.5.0",
      "_model_name": "HBoxModel",
      "_view_count": null,
      "_view_module": "@jupyter-widgets/controls",
      "_view_module_version": "1.5.0",
      "_view_name": "HBoxView",
      "box_style": "",
      "children": [
       "IPY_MODEL_30becd54148346ea9aea2e82982ab7b6",
       "IPY_MODEL_2463eadaf0354231bb4c505a4bbfc939",
       "IPY_MODEL_5ece0b2ff90f4da2927db13650c502ef"
      ],
      "layout": "IPY_MODEL_d6a367ff82b94749831739655cc019a8"
     }
    },
    "9f66185f93094562a15f65d8261b6959": {
     "model_module": "@jupyter-widgets/controls",
     "model_module_version": "1.5.0",
     "model_name": "DescriptionStyleModel",
     "state": {
      "_model_module": "@jupyter-widgets/controls",
      "_model_module_version": "1.5.0",
      "_model_name": "DescriptionStyleModel",
      "_view_count": null,
      "_view_module": "@jupyter-widgets/base",
      "_view_module_version": "1.2.0",
      "_view_name": "StyleView",
      "description_width": ""
     }
    },
    "b9e96ba4df17498a942a7b323d1a8084": {
     "model_module": "@jupyter-widgets/base",
     "model_module_version": "1.2.0",
     "model_name": "LayoutModel",
     "state": {
      "_model_module": "@jupyter-widgets/base",
      "_model_module_version": "1.2.0",
      "_model_name": "LayoutModel",
      "_view_count": null,
      "_view_module": "@jupyter-widgets/base",
      "_view_module_version": "1.2.0",
      "_view_name": "LayoutView",
      "align_content": null,
      "align_items": null,
      "align_self": null,
      "border": null,
      "bottom": null,
      "display": null,
      "flex": null,
      "flex_flow": null,
      "grid_area": null,
      "grid_auto_columns": null,
      "grid_auto_flow": null,
      "grid_auto_rows": null,
      "grid_column": null,
      "grid_gap": null,
      "grid_row": null,
      "grid_template_areas": null,
      "grid_template_columns": null,
      "grid_template_rows": null,
      "height": null,
      "justify_content": null,
      "justify_items": null,
      "left": null,
      "margin": null,
      "max_height": null,
      "max_width": null,
      "min_height": null,
      "min_width": null,
      "object_fit": null,
      "object_position": null,
      "order": null,
      "overflow": null,
      "overflow_x": null,
      "overflow_y": null,
      "padding": null,
      "right": null,
      "top": null,
      "visibility": null,
      "width": null
     }
    },
    "c112b28e46a445778a13ae02ea3d94d8": {
     "model_module": "@jupyter-widgets/controls",
     "model_module_version": "1.5.0",
     "model_name": "ProgressStyleModel",
     "state": {
      "_model_module": "@jupyter-widgets/controls",
      "_model_module_version": "1.5.0",
      "_model_name": "ProgressStyleModel",
      "_view_count": null,
      "_view_module": "@jupyter-widgets/base",
      "_view_module_version": "1.2.0",
      "_view_name": "StyleView",
      "bar_color": null,
      "description_width": ""
     }
    },
    "cd5f4673f7594ab29e87e9d54fc3b71b": {
     "model_module": "@jupyter-widgets/base",
     "model_module_version": "1.2.0",
     "model_name": "LayoutModel",
     "state": {
      "_model_module": "@jupyter-widgets/base",
      "_model_module_version": "1.2.0",
      "_model_name": "LayoutModel",
      "_view_count": null,
      "_view_module": "@jupyter-widgets/base",
      "_view_module_version": "1.2.0",
      "_view_name": "LayoutView",
      "align_content": null,
      "align_items": null,
      "align_self": null,
      "border": null,
      "bottom": null,
      "display": null,
      "flex": null,
      "flex_flow": null,
      "grid_area": null,
      "grid_auto_columns": null,
      "grid_auto_flow": null,
      "grid_auto_rows": null,
      "grid_column": null,
      "grid_gap": null,
      "grid_row": null,
      "grid_template_areas": null,
      "grid_template_columns": null,
      "grid_template_rows": null,
      "height": null,
      "justify_content": null,
      "justify_items": null,
      "left": null,
      "margin": null,
      "max_height": null,
      "max_width": null,
      "min_height": null,
      "min_width": null,
      "object_fit": null,
      "object_position": null,
      "order": null,
      "overflow": null,
      "overflow_x": null,
      "overflow_y": null,
      "padding": null,
      "right": null,
      "top": null,
      "visibility": null,
      "width": null
     }
    },
    "d6a367ff82b94749831739655cc019a8": {
     "model_module": "@jupyter-widgets/base",
     "model_module_version": "1.2.0",
     "model_name": "LayoutModel",
     "state": {
      "_model_module": "@jupyter-widgets/base",
      "_model_module_version": "1.2.0",
      "_model_name": "LayoutModel",
      "_view_count": null,
      "_view_module": "@jupyter-widgets/base",
      "_view_module_version": "1.2.0",
      "_view_name": "LayoutView",
      "align_content": null,
      "align_items": null,
      "align_self": null,
      "border": null,
      "bottom": null,
      "display": null,
      "flex": null,
      "flex_flow": null,
      "grid_area": null,
      "grid_auto_columns": null,
      "grid_auto_flow": null,
      "grid_auto_rows": null,
      "grid_column": null,
      "grid_gap": null,
      "grid_row": null,
      "grid_template_areas": null,
      "grid_template_columns": null,
      "grid_template_rows": null,
      "height": null,
      "justify_content": null,
      "justify_items": null,
      "left": null,
      "margin": null,
      "max_height": null,
      "max_width": null,
      "min_height": null,
      "min_width": null,
      "object_fit": null,
      "object_position": null,
      "order": null,
      "overflow": null,
      "overflow_x": null,
      "overflow_y": null,
      "padding": null,
      "right": null,
      "top": null,
      "visibility": null,
      "width": null
     }
    },
    "fbd9effefeca4a9084819c22a892e4ce": {
     "model_module": "@jupyter-widgets/controls",
     "model_module_version": "1.5.0",
     "model_name": "DescriptionStyleModel",
     "state": {
      "_model_module": "@jupyter-widgets/controls",
      "_model_module_version": "1.5.0",
      "_model_name": "DescriptionStyleModel",
      "_view_count": null,
      "_view_module": "@jupyter-widgets/base",
      "_view_module_version": "1.2.0",
      "_view_name": "StyleView",
      "description_width": ""
     }
    }
   }
  }
 },
 "nbformat": 4,
 "nbformat_minor": 4
}
