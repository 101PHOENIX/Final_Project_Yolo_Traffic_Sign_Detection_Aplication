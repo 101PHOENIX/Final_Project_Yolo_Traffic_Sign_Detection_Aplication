{
 "cells": [
  {
   "cell_type": "code",
   "execution_count": null,
   "metadata": {},
   "outputs": [
    {
     "name": "stderr",
     "output_type": "stream",
     "text": [
      "UsageError: Line magic function `%uninstall` not found.\n"
     ]
    }
   ],
   "source": [
    "%pip3 uninstall torch torchvision torchaudio"
   ]
  },
  {
   "cell_type": "code",
   "execution_count": null,
   "metadata": {},
   "outputs": [
    {
     "name": "stdout",
     "output_type": "stream",
     "text": [
      "^C\n",
      "Note: you may need to restart the kernel to use updated packages.\n"
     ]
    }
   ],
   "source": [
    "%pip install torch torchvision torchaudio --index-url https://download.pytorch.org/whl/cu126"
   ]
  },
  {
   "cell_type": "code",
   "execution_count": null,
   "metadata": {},
   "outputs": [],
   "source": [
    "import os\n",
    "import numpy as np\n",
    "import matplotlib.pyplot as plt\n",
    "from sklearn.metrics import roc_curve, auc\n",
    "from ultralytics import YOLO\n",
    "from tqdm import tqdm\n",
    "\n",
    "# Test verisi yolu\n",
    "test_images_dir = 'datasets/carla-object-detection-dataset/images/test'\n",
    "\n",
    "# Sınıf adları (data.yaml'dan aynı sırayla alınmalı)\n",
    "class_names = ['Vehicle', 'Bike', 'Motorbike', 'Traffic Light', 'Traffic Sign']\n",
    "target_class_index = class_names.index('Traffic Sign')  # ROC sadece bu sınıf için\n",
    "\n",
    "# Eğitilmiş modeller\n",
    "model_infos = [\n",
    "    (\"YOLOv8n\", \"runs/detect/train_YOLOv8n/weights/best.pt\"),\n",
    "    (\"YOLOv9t\", \"runs/detect/train_YOLOv9t/weights/best.pt\"),\n",
    "    (\"YOLOv9s\", \"runs/detect/train_YOLOv9s/weights/best.pt\"),\n",
    "    (\"YOLOv9m\", \"runs/detect/train_YOLOv9m/weights/best.pt\"),\n",
    "    (\"YOLOv9c\", \"runs/detect/train_YOLOv9c/weights/best.pt\"),\n",
    "    (\"YOLOv9e\", \"runs/detect/train_YOLOv9e/weights/best.pt\"),\n",
    "    (\"YOLOv10n\", \"runs/detect/train_YOLOv10n/weights/best.pt\"),\n",
    "    (\"YOLOv11n\", \"runs/detect/train_YOLOv11n/weights/best.pt\"),\n",
    "    (\"YOLOv12n\", \"runs/detect/train_YOLOv12n/weights/best.pt\"),\n",
    "]\n",
    "\n",
    "# ROC için tüm modellerin skorlarını sakla\n",
    "plt.figure(figsize=(10, 8))\n",
    "\n",
    "for model_name, model_path in model_infos:\n",
    "    model = YOLO(model_path)\n",
    "\n",
    "    # Prediction sonuçları\n",
    "    results = model.predict(source=test_images_dir, conf=0.001, iou=0.5, save=False, stream=True)\n",
    "\n",
    "    y_true = []\n",
    "    y_scores = []\n",
    "\n",
    "    for result in tqdm(results, desc=f\"{model_name} evaluating\"):\n",
    "        # Her image prediction\n",
    "        boxes = result.boxes\n",
    "        if boxes is None:\n",
    "            continue\n",
    "\n",
    "        for b in boxes:\n",
    "            cls = int(b.cls.cpu().numpy())\n",
    "            conf = float(b.conf.cpu().numpy())\n",
    "\n",
    "            # Sadece hedef sınıfa bak\n",
    "            if cls == target_class_index:\n",
    "                y_true.append(1)\n",
    "                y_scores.append(conf)\n",
    "            else:\n",
    "                y_true.append(0)\n",
    "                y_scores.append(conf)\n",
    "\n",
    "    # ROC eğrisi\n",
    "    fpr, tpr, _ = roc_curve(y_true, y_scores)\n",
    "    roc_auc = auc(fpr, tpr)\n",
    "\n",
    "    # Çizim\n",
    "    plt.plot(fpr, tpr, label=f'{model_name} (AUC = {roc_auc:.3f})')\n",
    "\n",
    "# Görselleştir\n",
    "plt.plot([0, 1], [0, 1], 'k--')\n",
    "plt.xlabel('False Positive Rate')\n",
    "plt.ylabel('True Positive Rate (Recall)')\n",
    "plt.title('ROC Curve Comparison for \"Traffic Sign\" Detection')\n",
    "plt.legend(loc='lower right')\n",
    "plt.grid(True)\n",
    "plt.tight_layout()\n",
    "plt.savefig('roc_curve_comparison.png')\n",
    "plt.show()\n"
   ]
  }
 ],
 "metadata": {
  "kernelspec": {
   "display_name": "Python 3",
   "language": "python",
   "name": "python3"
  },
  "language_info": {
   "codemirror_mode": {
    "name": "ipython",
    "version": 3
   },
   "file_extension": ".py",
   "mimetype": "text/x-python",
   "name": "python",
   "nbconvert_exporter": "python",
   "pygments_lexer": "ipython3",
   "version": "3.11.4"
  }
 },
 "nbformat": 4,
 "nbformat_minor": 2
}
